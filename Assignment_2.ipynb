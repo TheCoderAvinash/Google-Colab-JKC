{
  "nbformat": 4,
  "nbformat_minor": 0,
  "metadata": {
    "colab": {
      "provenance": [],
      "authorship_tag": "ABX9TyNF+/uB49enguLGeMwjBQvO",
      "include_colab_link": true
    },
    "kernelspec": {
      "name": "python3",
      "display_name": "Python 3"
    },
    "language_info": {
      "name": "python"
    }
  },
  "cells": [
    {
      "cell_type": "markdown",
      "metadata": {
        "id": "view-in-github",
        "colab_type": "text"
      },
      "source": [
        "<a href=\"https://colab.research.google.com/github/TheCoderAvinash/Google-Colab-JKC/blob/main/Assignment_2.ipynb\" target=\"_parent\"><img src=\"https://colab.research.google.com/assets/colab-badge.svg\" alt=\"Open In Colab\"/></a>"
      ]
    },
    {
      "cell_type": "markdown",
      "source": [
        "# Assignment 2\n",
        "Test run code:\n",
        "```\n",
        "n = int(input(\"Enter the size of array: \"))\n",
        "arr = []\n",
        "for i in range(n): # Asking for the elements of the array\n",
        "    elem = int(input())\n",
        "    arr.append(elem)\n",
        "\n",
        "BubbleSort(arr) # sorting\n",
        "print(arr) # printing\n",
        "```\n",
        "\n",
        "## Implement Bubble Sort algorithm using Python\n",
        "\n",
        "1. Unsorted array is taken\n",
        "2. The 1st element is stored in a variable key\n",
        "3. the key is then compared with the second element\n",
        "4\n",
        "5. There will be a total of `(n-1)(n-2)` passes for n elements"
      ],
      "metadata": {
        "id": "2fMCpEhUSzMx"
      }
    },
    {
      "cell_type": "code",
      "execution_count": null,
      "metadata": {
        "id": "4x9NkqlZSxn9"
      },
      "outputs": [],
      "source": [
        "def BubbleSort(arr):\n",
        "    n = len(arr)\n",
        "\n",
        "    # Traverse through all array elements\n",
        "    for i in range(n):\n",
        "        # Last i elements are already in place\n",
        "\n",
        "        for j in range(0, n-i-1):\n",
        "            # Traverse the array from 0 to n-i-1\n",
        "\n",
        "            # Swap if the element found is greater than the next element\n",
        "            if arr[j] > arr[j+1]:\n",
        "                arr[j], arr[j+1] = arr[j+1], arr[j]"
      ]
    },
    {
      "cell_type": "markdown",
      "source": [
        "## Implement Selection Sort using Python\n",
        "1. Unsorted array is taken\n",
        "2. The first element's index is stored in temp\n",
        "3. The first element is then compared with the rest of the elements and every time it founds a smaller element, it's index is stored in temp\n",
        "4. At the end of the scan, temp would store the index of the smallest element and the value will be swapped with the first element\n",
        "5. Repeat the processs until the array is sorted\n"
      ],
      "metadata": {
        "id": "_SBWQRixXcGO"
      }
    },
    {
      "cell_type": "code",
      "source": [
        "def SelectionSort(arr):\n",
        "  n = len(arr)\n",
        "\n",
        "  for j in range(n-1):\n",
        "    minValue_index = j\n",
        "\n",
        "    for i in range(j+1,n):\n",
        "\n",
        "      if arr[minValue_index] > arr[i]:\n",
        "        temp = i\n",
        "\n",
        "    arr[j],arr[minValue_index]  = arr[minValue_index],arr[j]"
      ],
      "metadata": {
        "id": "RuruChgkeRQ7"
      },
      "execution_count": null,
      "outputs": []
    },
    {
      "cell_type": "markdown",
      "source": [
        "# Implement Quick Sort using Python\n",
        "\n"
      ],
      "metadata": {
        "id": "f5JcuLUZ64dd"
      }
    },
    {
      "cell_type": "code",
      "source": [
        "def partition(array, low, high):\n",
        "    pivot = array[high]\n",
        "    i = low - 1\n",
        "\n",
        "    for j in range(low, high):\n",
        "        if array[j] <= pivot:\n",
        "            i = i + 1\n",
        "\n",
        "            (array[i], array[j]) = (array[j], array[i])\n",
        "\n",
        "    (array[i + 1], array[high]) = (array[high], array[i + 1])\n",
        "\n",
        "    return i + 1\n",
        "\n",
        "\n",
        "\n",
        "def quicksort(array, low, high):\n",
        "    if low < high:\n",
        "\n",
        "        pi = partition(array, low, high)\n",
        "\n",
        "        quicksort(array, low, pi - 1)\n",
        "\n",
        "        quicksort(array, pi + 1, high)\n",
        "\n",
        "\n",
        "\n",
        "array = [10, 7, 8, 9, 1, 5]\n",
        "N = len(array)\n",
        "\n",
        "# Function call\n",
        "quicksort(array, 0, N - 1)\n",
        "print('Sorted array:')\n",
        "for x in array:\n",
        "    print(x, end=\" \")"
      ],
      "metadata": {
        "colab": {
          "base_uri": "https://localhost:8080/"
        },
        "id": "L_IX2iQ-7Zot",
        "outputId": "5b3290ce-9f47-43d9-dc1b-7f9ffac56b55"
      },
      "execution_count": 1,
      "outputs": [
        {
          "output_type": "stream",
          "name": "stdout",
          "text": [
            "Sorted array:\n",
            "1 5 7 8 9 10 "
          ]
        }
      ]
    }
  ]
}