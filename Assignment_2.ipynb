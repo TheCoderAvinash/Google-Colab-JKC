{
  "nbformat": 4,
  "nbformat_minor": 0,
  "metadata": {
    "colab": {
      "provenance": [],
      "authorship_tag": "ABX9TyMbDqQUQcasT6ZuCTqvyA1g",
      "include_colab_link": true
    },
    "kernelspec": {
      "name": "python3",
      "display_name": "Python 3"
    },
    "language_info": {
      "name": "python"
    }
  },
  "cells": [
    {
      "cell_type": "markdown",
      "metadata": {
        "id": "view-in-github",
        "colab_type": "text"
      },
      "source": [
        "<a href=\"https://colab.research.google.com/github/TheCoderAvinash/Google-Colab-JKC/blob/main/Assignment_2.ipynb\" target=\"_parent\"><img src=\"https://colab.research.google.com/assets/colab-badge.svg\" alt=\"Open In Colab\"/></a>"
      ]
    },
    {
      "cell_type": "markdown",
      "source": [
        "# Assignment 2\n",
        "\n",
        "## Implement Bubble Sort algorithm using Python\n",
        "\n",
        "1. Unsorted array is taken\n",
        "2. The 1st element is stored in a variable key\n",
        "3. the key is then compared with the second element\n",
        "4\n",
        "5. There will be a total of `(n-1)(n-2)` passes for n elements"
      ],
      "metadata": {
        "id": "2fMCpEhUSzMx"
      }
    },
    {
      "cell_type": "code",
      "execution_count": null,
      "metadata": {
        "id": "4x9NkqlZSxn9"
      },
      "outputs": [],
      "source": [
        "def BubbleSort(arr):\n",
        "    n = len(arr)\n",
        "\n",
        "    # Traverse through all array elements\n",
        "    for i in range(n):\n",
        "        # Last i elements are already in place\n",
        "\n",
        "        for j in range(0, n-i-1):\n",
        "            # Traverse the array from 0 to n-i-1\n",
        "\n",
        "            # Swap if the element found is greater than the next element\n",
        "            if arr[j] > arr[j+1]:\n",
        "                arr[j], arr[j+1] = arr[j+1], arr[j]\n",
        "\n",
        "\n",
        "\n",
        "n = int(input(\"Enter the size of array: \"))\n",
        "arr = []\n",
        "for i in range(n): # Asking for the elements of the array\n",
        "    elem = int(input())\n",
        "    arr.append(elem)\n",
        "\n",
        "BubbleSort(arr) # sorting\n",
        "print(arr) # printing\n",
        ""
      ]
    },
    {
      "cell_type": "markdown",
      "source": [
        "## Implement Selection Sort using Python\n",
        "1. Unsorted array is taken\n",
        "2. The first element's index is stored in temp\n",
        "3. The first element is then compared with the rest of the elements and every time it founds a smaller element, it's index is stored in temp\n",
        "4. At the end of the scan, temp would store the index of the smallest element and the value will be swapped with the first element\n",
        "5. Repeat the processs until the array is sorted\n"
      ],
      "metadata": {
        "id": "_SBWQRixXcGO"
      }
    },
    {
      "cell_type": "code",
      "source": [
        "def SelectionSort(arr):\n",
        "  n = len(arr)\n",
        "  temp = 0\n",
        "  for i in range(n):\n",
        "    if"
      ],
      "metadata": {
        "id": "RuruChgkeRQ7"
      },
      "execution_count": null,
      "outputs": []
    }
  ]
}