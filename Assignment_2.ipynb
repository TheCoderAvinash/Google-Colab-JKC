{
  "nbformat": 4,
  "nbformat_minor": 0,
  "metadata": {
    "colab": {
      "provenance": [],
      "authorship_tag": "ABX9TyPMQJ9YTijgLVt6A8VNeElQ",
      "include_colab_link": true
    },
    "kernelspec": {
      "name": "python3",
      "display_name": "Python 3"
    },
    "language_info": {
      "name": "python"
    }
  },
  "cells": [
    {
      "cell_type": "markdown",
      "metadata": {
        "id": "view-in-github",
        "colab_type": "text"
      },
      "source": [
        "<a href=\"https://colab.research.google.com/github/TheCoderAvinash/Google-Colab-JKC/blob/main/Assignment_2.ipynb\" target=\"_parent\"><img src=\"https://colab.research.google.com/assets/colab-badge.svg\" alt=\"Open In Colab\"/></a>"
      ]
    },
    {
      "cell_type": "markdown",
      "source": [
        "# Assignment 2\n",
        "Test run code:\n",
        "```\n",
        "n = int(input(\"Enter the size of array: \"))\n",
        "arr = []\n",
        "for i in range(n): # Asking for the elements of the array\n",
        "    elem = int(input())\n",
        "    arr.append(elem)\n",
        "\n",
        "NameofFunction(arr) # sorting\n",
        "print(arr) # printing\n",
        "```\n",
        "\n",
        "## Implement Bubble Sort algorithm using Python\n",
        "\n",
        "1. Unsorted array is taken\n",
        "2. The 1st element is stored in a variable key\n",
        "3. the key is then compared with the second element\n",
        "4\n",
        "5. There will be a total of `(n-1)(n-2)` passes for n elements"
      ],
      "metadata": {
        "id": "2fMCpEhUSzMx"
      }
    },
    {
      "cell_type": "code",
      "execution_count": null,
      "metadata": {
        "id": "4x9NkqlZSxn9"
      },
      "outputs": [],
      "source": [
        "def BubbleSort(arr):\n",
        "    n = len(arr)\n",
        "\n",
        "    # Traverse through all array elements\n",
        "    for i in range(n):\n",
        "        # Last i elements are already in place\n",
        "\n",
        "        for j in range(0, n-i-1):\n",
        "            # Traverse the array from 0 to n-i-1\n",
        "\n",
        "            # Swap if the element found is greater than the next element\n",
        "            if arr[j] > arr[j+1]:\n",
        "                arr[j], arr[j+1] = arr[j+1], arr[j]"
      ]
    },
    {
      "cell_type": "markdown",
      "source": [
        "## Implement Selection Sort using Python\n",
        "1. Unsorted array is taken\n",
        "2. The first element's index is stored in temp\n",
        "3. The first element is then compared with the rest of the elements and every time it founds a smaller element, it's index is stored in temp\n",
        "4. At the end of the scan, temp would store the index of the smallest element and the value will be swapped with the first element\n",
        "5. Repeat the processs until the array is sorted\n"
      ],
      "metadata": {
        "id": "_SBWQRixXcGO"
      }
    },
    {
      "cell_type": "code",
      "source": [
        "def SelectionSort(arr):\n",
        "  n = len(arr)\n",
        "\n",
        "  for j in range(n-1):\n",
        "    minValue_index = j\n",
        "\n",
        "    for i in range(j+1,n):\n",
        "\n",
        "      if arr[minValue_index] > arr[i]:\n",
        "        temp = i\n",
        "\n",
        "    arr[j],arr[minValue_index]  = arr[minValue_index],arr[j]"
      ],
      "metadata": {
        "id": "RuruChgkeRQ7"
      },
      "execution_count": null,
      "outputs": []
    },
    {
      "cell_type": "markdown",
      "source": [
        "# Implement Quick Sort using Python\n",
        "\n",
        "1. Set the pivot element to the last element of the array\n",
        "2. Start a loop from one less than the index of the first element, `i=low-1`, to the index of the last element, `high`\n",
        "3. If element smaller than pivot is found swap it with the greater element pointed by i\n",
        "4. After the loop terminates, swap the i-th element with the pivot\n",
        "5. Once the partition is properly done, find pivot element such that element smaller than pivot are on the left element greater than pivot are on the right\n",
        "6. Then recursively call the quicksort function for the left and right partition of the pivot.\n"
      ],
      "metadata": {
        "id": "f5JcuLUZ64dd"
      }
    },
    {
      "cell_type": "code",
      "source": [
        "def partition(array, low, high):\n",
        "    pivot = array[high]\n",
        "    i = low - 1\n",
        "\n",
        "    for j in range(low, high):\n",
        "        if array[j] <= pivot:\n",
        "            i = i + 1\n",
        "\n",
        "            (array[i], array[j]) = (array[j], array[i])\n",
        "\n",
        "    (array[i + 1], array[high]) = (array[high], array[i + 1])\n",
        "\n",
        "    return i + 1\n",
        "\n",
        "\n",
        "def quicksort(array, low, high):\n",
        "    if low < high:\n",
        "\n",
        "        pi = partition(array, low, high)\n",
        "\n",
        "        quicksort(array, low, pi - 1)\n",
        "\n",
        "        quicksort(array, pi + 1, high)"
      ],
      "metadata": {
        "id": "L_IX2iQ-7Zot"
      },
      "execution_count": null,
      "outputs": []
    },
    {
      "cell_type": "markdown",
      "source": [
        "# Implement Merge Sort using Python\n",
        "\n",
        "Based on the Divide and Conquer algorithm, Merge Sort first seperates every element and then compare and merge to form a sorted array. <br>\n",
        "1."
      ],
      "metadata": {
        "id": "-vGldrzTETAd"
      }
    },
    {
      "cell_type": "code",
      "source": [
        "def merge(arr, l, m, r):\n",
        "    n1 = m - l + 1\n",
        "    n2 = r - m\n",
        "\n",
        "    # create temp arrays\n",
        "    L = [0] * (n1)\n",
        "    R = [0] * (n2)\n",
        "\n",
        "    # Copy data to temp arrays L[] and R[]\n",
        "    for i in range(0, n1):\n",
        "        L[i] = arr[l + i]\n",
        "\n",
        "    for j in range(0, n2):\n",
        "        R[j] = arr[m + 1 + j]\n",
        "\n",
        "    # Merge the temp arrays back into arr[l..r]\n",
        "    i = 0     # Initial index of first subarray\n",
        "    j = 0     # Initial index of second subarray\n",
        "    k = l     # Initial index of merged subarray\n",
        "\n",
        "    while i < n1 and j < n2:\n",
        "        if L[i] <= R[j]:\n",
        "            arr[k] = L[i]\n",
        "            i += 1\n",
        "        else:\n",
        "            arr[k] = R[j]\n",
        "            j += 1\n",
        "        k += 1\n",
        "\n",
        "    # Copy the remaining elements of L[], if there are any\n",
        "    while i < n1:\n",
        "        arr[k] = L[i]\n",
        "        i += 1\n",
        "        k += 1\n",
        "\n",
        "    # Copy the remaining elements of R[], if there are any\n",
        "    while j < n2:\n",
        "        arr[k] = R[j]\n",
        "        j += 1\n",
        "        k += 1\n",
        "\n",
        "# l is for left index and r is right index of the sub-array of arr to be sorted\n",
        "\n",
        "\n",
        "def mergeSort(arr, l, r):\n",
        "    if l < r:\n",
        "\n",
        "        # Same as (l+r)//2, but avoids overflow for large l and h\n",
        "        m = l+(r-l)//2\n",
        "\n",
        "        # Sort first and second halves\n",
        "        mergeSort(arr, l, m)\n",
        "        mergeSort(arr, m+1, r)\n",
        "        merge(arr, l, m, r)\n",
        "\n",
        "n = int(input(\"Enter the size of array: \"))\n",
        "arr = []\n",
        "for i in range(n): # Asking for the elements of the array\n",
        "    elem = int(input())\n",
        "    arr.append(elem)\n",
        "\n",
        "mergeSort(arr,0,n-1) # sorting\n",
        "print(arr) # printing"
      ],
      "metadata": {
        "id": "5tjnCWARJdCD"
      },
      "execution_count": null,
      "outputs": []
    }
  ]
}