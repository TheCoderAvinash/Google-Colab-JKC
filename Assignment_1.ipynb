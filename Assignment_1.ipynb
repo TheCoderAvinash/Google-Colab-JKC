{
  "nbformat": 4,
  "nbformat_minor": 0,
  "metadata": {
    "colab": {
      "provenance": [],
      "collapsed_sections": [
        "WNFULEHFYtml",
        "msbvBLMTYiRf"
      ],
      "toc_visible": true,
      "authorship_tag": "ABX9TyMJ3PssWJjGFU1ACbYfjOYj",
      "include_colab_link": true
    },
    "kernelspec": {
      "name": "python3",
      "display_name": "Python 3"
    },
    "language_info": {
      "name": "python"
    }
  },
  "cells": [
    {
      "cell_type": "markdown",
      "metadata": {
        "id": "view-in-github",
        "colab_type": "text"
      },
      "source": [
        "<a href=\"https://colab.research.google.com/github/TheCoderAvinash/Google-Colab/blob/main/Assignment_1.ipynb\" target=\"_parent\"><img src=\"https://colab.research.google.com/assets/colab-badge.svg\" alt=\"Open In Colab\"/></a>"
      ]
    },
    {
      "cell_type": "markdown",
      "source": [
        "# Assignment 1\n",
        "\n",
        "## Implement linear search and binary search algorithm using python.\n",
        "\n",
        "## Implement Insertion Sort algorithm using python.\n",
        "<hr>\n",
        "\n",
        "To test the array you can simply paste this below the function:\n",
        "```\n",
        "# Test array\n",
        "arr = [ 2, 3, 4, 10, 40 ]\n",
        "x = 10\n",
        "\n",
        "# Function call\n",
        "result = name_of_function(arr, x)\n",
        "\n",
        "if result != -1:\n",
        "    print(\"Element is present at index\", str(result))\n",
        "else:\n",
        "    print(\"Element is not present in array\")\n",
        "\n",
        "```"
      ],
      "metadata": {
        "id": "ssm5sM5XTqQG"
      }
    },
    {
      "cell_type": "markdown",
      "source": [
        "### Linear Search\n",
        "\n",
        "  1. An array and the desired element is provided to the function, to check whether it's present or not\n",
        "  2. If the element `arr[i] == elem`, the function will return the index of the element and terminate the loop\n",
        "  3. Else, it will run till the length of the array\n",
        "  4. If the element is not found and it exits the loop, it returns -1, meaning the element doesn't exist in the array."
      ],
      "metadata": {
        "id": "WNFULEHFYtml"
      }
    },
    {
      "cell_type": "code",
      "execution_count": null,
      "metadata": {
        "id": "x_ttqotSS52m"
      },
      "outputs": [],
      "source": [
        "def LinearSearch(arr, elem):\n",
        "  for i in range(len(arr)):\n",
        "    if arr[i]==elem:\n",
        "      return i\n",
        "  return -1"
      ]
    },
    {
      "cell_type": "markdown",
      "source": [
        "### Binary Search\n",
        "  1. An array and the desired element is provided to the function.\n",
        "  2. Three variables are initialized, denoting the start and end of the array\n",
        "  3. A loop is ran with condition `start<=end`\n",
        "  4. mid variable is initialized `mid = (start+end)//2`\n",
        "  5. the mid element of array is compared with the searched element and changes in the start and end are made accordingly.\n",
        "  6. The loop runs until `start>end` or the `array[mid] == element`\n",
        "  7. If element is found, the function returns it's index\n",
        "  8. Else it returns -1"
      ],
      "metadata": {
        "id": "msbvBLMTYiRf"
      }
    },
    {
      "cell_type": "code",
      "source": [
        "def BinarySearch(arr,elem):\n",
        "  start = 0\n",
        "  end = len(arr) - 1\n",
        "\n",
        "  while start<=end:\n",
        "    mid = (start+end)//2\n",
        "\n",
        "    if arr[mid]>elem:\n",
        "      end = mid - 1\n",
        "\n",
        "    elif arr[mid]<elem:\n",
        "      start = mid +1\n",
        "\n",
        "    else:\n",
        "      return mid\n",
        "\n",
        "  return -1\n"
      ],
      "metadata": {
        "id": "jkj1rRo6Vevj"
      },
      "execution_count": null,
      "outputs": []
    },
    {
      "cell_type": "markdown",
      "source": [
        "### Insertion Sort"
      ],
      "metadata": {
        "id": "gRjoGDTYVall"
      }
    },
    {
      "cell_type": "code",
      "source": [],
      "metadata": {
        "id": "JuO55cixVcUh"
      },
      "execution_count": null,
      "outputs": []
    }
  ]
}