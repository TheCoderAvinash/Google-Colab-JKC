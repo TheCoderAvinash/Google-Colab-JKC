{
  "nbformat": 4,
  "nbformat_minor": 0,
  "metadata": {
    "colab": {
      "provenance": [],
      "authorship_tag": "ABX9TyMLMZbXHaFWUHGZUYKZg2rB",
      "include_colab_link": true
    },
    "kernelspec": {
      "name": "python3",
      "display_name": "Python 3"
    },
    "language_info": {
      "name": "python"
    }
  },
  "cells": [
    {
      "cell_type": "markdown",
      "metadata": {
        "id": "view-in-github",
        "colab_type": "text"
      },
      "source": [
        "<a href=\"https://colab.research.google.com/github/TheCoderAvinash/Google-Colab/blob/main/Assignment_1.ipynb\" target=\"_parent\"><img src=\"https://colab.research.google.com/assets/colab-badge.svg\" alt=\"Open In Colab\"/></a>"
      ]
    },
    {
      "cell_type": "markdown",
      "source": [
        "# Assignment 1\n",
        "\n",
        "## Implement linear search and binary search algorithm using python.\n",
        "\n"
      ],
      "metadata": {
        "id": "ssm5sM5XTqQG"
      }
    },
    {
      "cell_type": "code",
      "execution_count": null,
      "metadata": {
        "id": "x_ttqotSS52m"
      },
      "outputs": [],
      "source": [
        "def LinearSearch(arr, elem):\n",
        "  for i in range(len(arr)):\n",
        "    if list[i]==x:\n",
        "      return i\n",
        "  return -1\n"
      ]
    },
    {
      "cell_type": "code",
      "source": [
        "def BinarySearch(arr,elem):\n",
        "  n = len(arr)\n",
        ""
      ],
      "metadata": {
        "id": "jkj1rRo6Vevj"
      },
      "execution_count": null,
      "outputs": []
    },
    {
      "cell_type": "markdown",
      "source": [
        "## Implement Insertion Sort algorithm using python."
      ],
      "metadata": {
        "id": "gRjoGDTYVall"
      }
    },
    {
      "cell_type": "code",
      "source": [],
      "metadata": {
        "id": "JuO55cixVcUh"
      },
      "execution_count": null,
      "outputs": []
    }
  ]
}