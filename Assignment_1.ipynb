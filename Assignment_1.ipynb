{
  "nbformat": 4,
  "nbformat_minor": 0,
  "metadata": {
    "colab": {
      "provenance": [],
      "collapsed_sections": [
        "msbvBLMTYiRf"
      ],
      "authorship_tag": "ABX9TyMcStFQHzYHDo2uuOUcefgv",
      "include_colab_link": true
    },
    "kernelspec": {
      "name": "python3",
      "display_name": "Python 3"
    },
    "language_info": {
      "name": "python"
    }
  },
  "cells": [
    {
      "cell_type": "markdown",
      "metadata": {
        "id": "view-in-github",
        "colab_type": "text"
      },
      "source": [
        "<a href=\"https://colab.research.google.com/github/TheCoderAvinash/Google-Colab-JKC/blob/main/Assignment_1.ipynb\" target=\"_parent\"><img src=\"https://colab.research.google.com/assets/colab-badge.svg\" alt=\"Open In Colab\"/></a>"
      ]
    },
    {
      "cell_type": "markdown",
      "source": [
        "# Assignment 1\n",
        "\n",
        "## Implement linear search and binary search algorithm using python.\n",
        "\n",
        "## Implement Insertion Sort algorithm using python.\n",
        "<hr>\n",
        "\n",
        "To test the array you can simply paste this below the function:\n",
        "```\n",
        "# Test array\n",
        "arr = []\n",
        "n = int(input(\"enter the number of elements\"))\n",
        "for i in range(n):\n",
        "  elem = int(input())\n",
        "  arr.append(elem)\n",
        "\n",
        "x = int(input(\"Enter the searched element\"))\n",
        "\n",
        "# Function call\n",
        "result = name_of_function(arr, x)\n",
        "\n",
        "if result != -1:\n",
        "    print(\"Element is present at index\", str(result))\n",
        "else:\n",
        "    print(\"Element is not present in array\")\n",
        "\n",
        "```"
      ],
      "metadata": {
        "id": "ssm5sM5XTqQG"
      }
    },
    {
      "cell_type": "markdown",
      "source": [
        "### Linear Search\n",
        "\n",
        "  1. An array and the desired element is provided to the function, to check whether it's present or not\n",
        "  2. If the element `arr[i] == elem`, the function will return the index of the element and terminate the loop\n",
        "  3. Else, it will run till the length of the array\n",
        "  4. If the element is not found and it exits the loop, it returns -1, meaning the element doesn't exist in the array."
      ],
      "metadata": {
        "id": "WNFULEHFYtml"
      }
    },
    {
      "cell_type": "code",
      "execution_count": 10,
      "metadata": {
        "id": "x_ttqotSS52m",
        "colab": {
          "base_uri": "https://localhost:8080/"
        },
        "outputId": "65299e9c-400a-42be-d560-053d17453cb9"
      },
      "outputs": [
        {
          "output_type": "stream",
          "name": "stdout",
          "text": [
            "enter the number of elements3\n",
            "5\n",
            "6\n",
            "8\n",
            "Enter the searched element1\n",
            "Element is not present in array\n"
          ]
        }
      ],
      "source": [
        "def LinearSearch(arr, elem):\n",
        "  for i in range(len(arr)):\n",
        "    if arr[i]==elem:\n",
        "      return i\n",
        "  return -1\n",
        "\n",
        "  # Test array\n",
        "arr = []\n",
        "n = int(input(\"enter the number of elements \"))\n",
        "for i in range(n):\n",
        "  elem = int(input())\n",
        "  arr.append(elem)\n",
        "\n",
        "x = int(input(\"Enter the searched element \"))\n",
        "\n",
        "# Function call\n",
        "result = LinearSearch(arr, x)\n",
        "\n",
        "if result != -1:\n",
        "    print(\"Element is present at index\", str(result))\n",
        "else:\n",
        "    print(\"Element is not present in array\")"
      ]
    },
    {
      "cell_type": "markdown",
      "source": [
        "### Binary Search\n",
        "  1. An array and the desired element is provided to the function.\n",
        "  2. Three variables are initialized, denoting the start and end of the array\n",
        "  3. A loop is ran with condition `start<=end`\n",
        "  4. mid variable is initialized `mid = (start+end)//2`\n",
        "  5. the mid element of array is compared with the searched element and changes in the start and end are made accordingly.\n",
        "  6. The loop runs until `start>end` or the `array[mid] == element`\n",
        "  7. If element is found, the function returns it's index\n",
        "  8. Else it returns -1"
      ],
      "metadata": {
        "id": "msbvBLMTYiRf"
      }
    },
    {
      "cell_type": "code",
      "source": [
        "def BinarySearch(arr,elem):\n",
        "  start = 0\n",
        "  end = len(arr) - 1\n",
        "\n",
        "  while start<=end:\n",
        "    mid = (start+end)//2\n",
        "\n",
        "    if arr[mid]>elem:\n",
        "      end = mid - 1\n",
        "\n",
        "    elif arr[mid]<elem:\n",
        "      start = mid +1\n",
        "\n",
        "    else:\n",
        "      return mid\n",
        "\n",
        "  return -1\n",
        "\n",
        "  # Test array\n",
        "arr = []\n",
        "n = int(input(\"enter the number of elements \"))\n",
        "for i in range(n):\n",
        "  elem = int(input())\n",
        "  arr.append(elem)\n",
        "\n",
        "x = int(input(\"Enter the searched element \"))\n",
        "\n",
        "# Function call\n",
        "result = BinarySearch(arr, x)\n",
        "\n",
        "if result != -1:\n",
        "    print(\"Element is present at index\", str(result))\n",
        "else:\n",
        "    print(\"Element is not present in array\")\n"
      ],
      "metadata": {
        "id": "jkj1rRo6Vevj"
      },
      "execution_count": null,
      "outputs": []
    },
    {
      "cell_type": "markdown",
      "source": [
        "### Insertion Sort\n",
        "\n",
        "1. An array is provided to the function.\n",
        "2. Run a loop from 1 to the array's length.\n",
        "3. Set `array[i]` as the key\n",
        "4. Make another loop, j, and run it from 1 value behind loop i\n",
        "5. If `j>=0` and `key<array[j]` the loop runs, and `array[j]` is swapped by `array[j+1]`, then j is decremented.\n",
        "6. Finally, after exiting the j loop, the value of `key` is stored in `arr[j+1]`\n",
        "\n",
        "```\n",
        "# Driver code to test the algorithm\n",
        "arr = [12, 11, 13, 5, 6]\n",
        "InsertionSort(arr)\n",
        "for i in range(len(arr)):\n",
        "    print (\"% d\" % arr[i])\n",
        "```"
      ],
      "metadata": {
        "id": "gRjoGDTYVall"
      }
    },
    {
      "cell_type": "code",
      "source": [
        "def InsertionSort(arr):\n",
        "  for i in range(1,len(arr)):\n",
        "    key = arr[i]\n",
        "    j = i-1\n",
        "    while j>=0 and key<arr[j]:\n",
        "      arr[j+1] = arr[j]\n",
        "      j-=1\n",
        "    arr[j+1] = key\n"
      ],
      "metadata": {
        "id": "JuO55cixVcUh"
      },
      "execution_count": null,
      "outputs": []
    }
  ]
}